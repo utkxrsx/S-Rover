{
 "cells": [
  {
   "cell_type": "code",
   "execution_count": 1,
   "metadata": {},
   "outputs": [
    {
     "name": "stdout",
     "output_type": "stream",
     "text": [
      "Stream source not available. Switching to file source.\n"
     ]
    }
   ],
   "source": [
    "import cv2 as cv\n",
    "import sys\n",
    "import numpy as np\n",
    "import os\n",
    "import glob\n",
    "import re\n",
    "import shutil\n",
    "\n",
    "\n",
    "stream_source = \"http://192.168.4.1/camera\"\n",
    "file_source = r\"C:\\Users\\shwet\\Desktop\\yesist final\\input videos\\WhatsApp Video 2024-03-01 at 00.43.04_7fda4119.mp4\" \n",
    "\n",
    "cap = cv.VideoCapture(stream_source)\n",
    "\n",
    "if not cap.isOpened():\n",
    "    print(\"Stream source not available. Switching to file source.\")\n",
    "    cap = cv.VideoCapture(file_source)\n",
    "\n",
    "if not cap.isOpened():\n",
    "    print(\"Error opening video source\")\n",
    "    exit()\n",
    "\n",
    "frame_interval = 7  \n",
    "frame_count_new = 0 \n",
    "\n",
    "frames_dir = r'C:\\Users\\shwet\\Desktop\\yesist final\\STREAM FRAMES'\n",
    "if not os.path.exists(frames_dir):\n",
    "    os.makedirs(frames_dir)\n",
    "\n",
    "while True:\n",
    "    ret, frame = cap.read()\n",
    "    if not ret:\n",
    "        break\n",
    "\n",
    "    if frame_count_new % frame_interval == 0:\n",
    "        cv.imwrite(os.path.join(frames_dir, f'frame{frame_count_new}.jpg'), frame)  \n",
    "\n",
    "    frame_count_new += 1\n",
    "\n",
    "cap.release()"
   ]
  },
  
  {
   "cell_type": "code",
   "execution_count": null,
   "metadata": {},
   "outputs": [],
   "source": [
    "import os\n",
    "\n",
    "from googleapiclient.discovery import build\n",
    "from google.oauth2 import service_account\n",
    "from googleapiclient.http import MediaFileUpload\n",
    "\n",
    "SCOPES = ['https://www.googleapis.com/auth/drive']\n",
    "SERVICE_ACCOUNT_FILE = 'service_account.json'\n",
    "\n",
    "FOLDER_MAPPING = {\n",
    "    r\"C:\\Users\\shwet\\Desktop\\yesist final\\annulus ring strips\": \"1XAztJV-V2-3ZG9OLceJm3Q53xLj22IdY\",\n",
    "    r\"C:\\Users\\shwet\\Desktop\\yesist final\\color_maps\": \"1kcNgA5bqmnlwOvYy-ljsYRdVl9MFCjJA\",\n",
    "    r\"C:\\Users\\shwet\\Desktop\\yesist final\\mapped rings\": \"1Qepap7ch6bX0RDAcl6RaoEHM66H6toXg\",\n",
    "    r\"C:\\Users\\shwet\\Desktop\\yesist final\\maps\": \"17oLJ6_A4pBiurB0jR11NZXxv9bDIwkWL\",\n",
    "    r\"C:\\Users\\shwet\\Desktop\\yesist final\\rectangular strips\": \"18TAgAJptoQNfGM3GBbO65xU6YwpWXcFH\",\n",
    "    r\"C:\\Users\\shwet\\Desktop\\yesist final\\frames\": \"1cbKT2VHtm-8VA5Vw-J9o25bTyDJAE4vL\"\n",
    "}\n",
    "\n",
    "def authenticate():\n",
    "    creds = service_account.Credentials.from_service_account_file(SERVICE_ACCOUNT_FILE, scopes=SCOPES)\n",
    "    return creds\n",
    "\n",
    "def upload_files(local_folder, drive_folder_id):\n",
    "    creds = authenticate()\n",
    "    service = build('drive', 'v3', credentials=creds)\n",
    "    \n",
    "    if os.path.isdir(local_folder):\n",
    "        for filename in os.listdir(local_folder):\n",
    "            file_full_path = os.path.join(local_folder, filename)\n",
    "            if os.path.isfile(file_full_path):\n",
    "                file_metadata = {\n",
    "                    'name': filename,\n",
    "                    'parents': [drive_folder_id]\n",
    "                }\n",
    "                media = MediaFileUpload(file_full_path)\n",
    "                file = service.files().create(\n",
    "                    body=file_metadata,\n",
    "                    media_body=media\n",
    "                ).execute()\n",
    "                print(f'Uploaded {filename}')\n",
    "    else:\n",
    "        print(f'{local_folder} is not a directory')\n",
    "\n",
    "for local_folder, drive_folder_id in FOLDER_MAPPING.items():\n",
    "    upload_files(local_folder, drive_folder_id)"
   ]
  }
 ],
 "metadata": {
  "kernelspec": {
   "display_name": "Python 3",
   "language": "python",
   "name": "python3"
  },
  "language_info": {
   "codemirror_mode": {
    "name": "ipython",
    "version": 3
   },
   "file_extension": ".py",
   "mimetype": "text/x-python",
   "name": "python",
   "nbconvert_exporter": "python",
   "pygments_lexer": "ipython3",
   "version": "3.11.6"
  }
 },
 "nbformat": 4,
 "nbformat_minor": 2
}
